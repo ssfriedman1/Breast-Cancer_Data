{
 "cells": [
  {
   "cell_type": "markdown",
   "metadata": {},
   "source": [
    "Import Libraries "
   ]
  },
  {
   "cell_type": "code",
   "execution_count": 2,
   "metadata": {},
   "outputs": [],
   "source": [
    "import matplotlib as plt\n",
    "import pandas as pd\n",
    "import numpy as np"
   ]
  },
  {
   "cell_type": "markdown",
   "metadata": {},
   "source": [
    "Importing CSV file "
   ]
  },
  {
   "cell_type": "code",
   "execution_count": 3,
   "metadata": {},
   "outputs": [
    {
     "name": "stdout",
     "output_type": "stream",
     "text": [
      "   patient_id  age_at_diagnosis type_of_breast_surgery    cancer_type  \\\n",
      "0           0             75.65             MASTECTOMY  Breast Cancer   \n",
      "1           2             43.19      BREAST CONSERVING  Breast Cancer   \n",
      "2           5             48.87             MASTECTOMY  Breast Cancer   \n",
      "3           6             47.68             MASTECTOMY  Breast Cancer   \n",
      "4           8             76.97             MASTECTOMY  Breast Cancer   \n",
      "5          10             78.77             MASTECTOMY  Breast Cancer   \n",
      "6          14             56.45      BREAST CONSERVING  Breast Cancer   \n",
      "7          22             89.08      BREAST CONSERVING  Breast Cancer   \n",
      "8          28             86.41      BREAST CONSERVING  Breast Cancer   \n",
      "9          35             84.22             MASTECTOMY  Breast Cancer   \n",
      "\n",
      "                        cancer_type_detailed cellularity  chemotherapy  \\\n",
      "0           Breast Invasive Ductal Carcinoma         NaN             0   \n",
      "1           Breast Invasive Ductal Carcinoma        High             0   \n",
      "2           Breast Invasive Ductal Carcinoma        High             1   \n",
      "3  Breast Mixed Ductal and Lobular Carcinoma    Moderate             1   \n",
      "4  Breast Mixed Ductal and Lobular Carcinoma        High             1   \n",
      "5           Breast Invasive Ductal Carcinoma    Moderate             0   \n",
      "6           Breast Invasive Ductal Carcinoma    Moderate             1   \n",
      "7  Breast Mixed Ductal and Lobular Carcinoma    Moderate             0   \n",
      "8           Breast Invasive Ductal Carcinoma    Moderate             0   \n",
      "9          Breast Invasive Lobular Carcinoma        High             0   \n",
      "\n",
      "  pam50_+_claudin-low_subtype  cohort er_status_measured_by_ihc  ... mtap_mut  \\\n",
      "0                 claudin-low     1.0                   Positve  ...        0   \n",
      "1                        LumA     1.0                   Positve  ...        0   \n",
      "2                        LumB     1.0                   Positve  ...        0   \n",
      "3                        LumB     1.0                   Positve  ...        0   \n",
      "4                        LumB     1.0                   Positve  ...        0   \n",
      "5                        LumB     1.0                   Positve  ...        0   \n",
      "6                        LumB     1.0                   Positve  ...        0   \n",
      "7                 claudin-low     1.0                   Positve  ...        0   \n",
      "8                        LumB     1.0                   Positve  ...        0   \n",
      "9                        Her2     1.0                  Negative  ...        0   \n",
      "\n",
      "   ppp2cb_mut smarcd1_mut nras_mut ndfip1_mut  hras_mut prps2_mut smarcb1_mut  \\\n",
      "0           0           0        0          0         0         0           0   \n",
      "1           0           0        0          0         0         0           0   \n",
      "2           0           0        0          0         0         0           0   \n",
      "3           0           0        0          0         0         0           0   \n",
      "4           0           0        0          0         0         0           0   \n",
      "5           0           0        0          0         0         0           0   \n",
      "6           0           0        0          0         0         0           0   \n",
      "7           0           0        0          0         0         0           0   \n",
      "8           0           0        0          0         0         0           0   \n",
      "9           0           0        0          0         0         0           0   \n",
      "\n",
      "  stmn2_mut  siah1_mut  \n",
      "0         0          0  \n",
      "1         0          0  \n",
      "2         0          0  \n",
      "3         0          0  \n",
      "4         0          0  \n",
      "5         0          0  \n",
      "6         0          0  \n",
      "7         0          0  \n",
      "8         0          0  \n",
      "9         0          0  \n",
      "\n",
      "[10 rows x 693 columns]\n"
     ]
    }
   ],
   "source": [
    "nRowsToRead = 1000\n",
    "df = pd.read_csv(r'METABRIC_RNA_Mutation.csv', delimiter = ',', nrows = nRowsToRead) # reading in CSV file using pandas\n",
    "print(df.iloc[:10 , :]) #Printing first 10 rows to see how data looks"
   ]
  },
  {
   "cell_type": "code",
   "execution_count": null,
   "metadata": {},
   "outputs": [],
   "source": []
  }
 ],
 "metadata": {
  "interpreter": {
   "hash": "aee8b7b246df8f9039afb4144a1f6fd8d2ca17a180786b69acc140d282b71a49"
  },
  "kernelspec": {
   "display_name": "Python 3.10.1 64-bit",
   "language": "python",
   "name": "python3"
  },
  "language_info": {
   "codemirror_mode": {
    "name": "ipython",
    "version": 3
   },
   "file_extension": ".py",
   "mimetype": "text/x-python",
   "name": "python",
   "nbconvert_exporter": "python",
   "pygments_lexer": "ipython3",
   "version": "3.9.7"
  },
  "orig_nbformat": 4
 },
 "nbformat": 4,
 "nbformat_minor": 2
}
